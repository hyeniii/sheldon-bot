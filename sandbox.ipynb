{
 "cells": [
  {
   "cell_type": "markdown",
   "metadata": {},
   "source": [
    "## Build your own Sheldon Chatbot\n"
   ]
  },
  {
   "cell_type": "code",
   "execution_count": 39,
   "metadata": {},
   "outputs": [],
   "source": [
    "from transformers import AutoModelWithLMHead, AutoTokenizer\n",
    "import torch\n",
    "import pandas as pd\n",
    "from sklearn.model_selection import train_test_split\n",
    "\n",
    "import warnings\n",
    "warnings.filterwarnings(\"ignore\")"
   ]
  },
  {
   "cell_type": "code",
   "execution_count": 23,
   "metadata": {},
   "outputs": [],
   "source": [
    "tokenizer = AutoTokenizer.from_pretrained(\"microsoft/DialoGPT-small\")\n",
    "tokenizer.padding_side = \"left\"\n",
    "model = AutoModelWithLMHead.from_pretrained(\"microsoft/DialoGPT-small\")"
   ]
  },
  {
   "cell_type": "code",
   "execution_count": 25,
   "metadata": {},
   "outputs": [
    {
     "name": "stderr",
     "output_type": "stream",
     "text": [
      "A decoder-only architecture is being used, but right-padding was detected! For correct generation results, please set `padding_side='left'` when initializing the tokenizer.\n"
     ]
    },
    {
     "name": "stdout",
     "output_type": "stream",
     "text": [
      "DialoGPT: I'm rick\n"
     ]
    },
    {
     "name": "stderr",
     "output_type": "stream",
     "text": [
      "A decoder-only architecture is being used, but right-padding was detected! For correct generation results, please set `padding_side='left'` when initializing the tokenizer.\n"
     ]
    },
    {
     "name": "stdout",
     "output_type": "stream",
     "text": [
      "DialoGPT: I'm rick\n"
     ]
    },
    {
     "name": "stderr",
     "output_type": "stream",
     "text": [
      "A decoder-only architecture is being used, but right-padding was detected! For correct generation results, please set `padding_side='left'` when initializing the tokenizer.\n"
     ]
    },
    {
     "name": "stdout",
     "output_type": "stream",
     "text": [
      "DialoGPT: i am morty\n"
     ]
    },
    {
     "name": "stderr",
     "output_type": "stream",
     "text": [
      "A decoder-only architecture is being used, but right-padding was detected! For correct generation results, please set `padding_side='left'` when initializing the tokenizer.\n"
     ]
    },
    {
     "name": "stdout",
     "output_type": "stream",
     "text": [
      "DialoGPT: i am morty\n"
     ]
    },
    {
     "name": "stderr",
     "output_type": "stream",
     "text": [
      "A decoder-only architecture is being used, but right-padding was detected! For correct generation results, please set `padding_side='left'` when initializing the tokenizer.\n"
     ]
    },
    {
     "name": "stdout",
     "output_type": "stream",
     "text": [
      "DialoGPT: i am morty\n"
     ]
    }
   ],
   "source": [
    "for step in range(5):\n",
    "    # encode user input and add eos_token\n",
    "    new_user_input_ids = tokenizer.encode(input(\">> User:\") + tokenizer.eos_token, return_tensors='pt')\n",
    "\n",
    "    if step > 0:\n",
    "        # append new user input token to chat history\n",
    "        bot_input_ids = torch.cat([chat_history_ids, new_user_input_ids], dim=-1) if step > 0 else new_user_input_ids\n",
    "\n",
    "    # generate a response\n",
    "    chat_history_ids = model.generate(\n",
    "        bot_input_ids, max_length=1000,\n",
    "        pad_token_id=tokenizer.eos_token_id\n",
    "    )\n",
    "\n",
    "    print(\"DialoGPT: {}\".format(tokenizer.decode(chat_history_ids[:, bot_input_ids.shape[-1]:][0], skip_special_tokens=True)))"
   ]
  },
  {
   "cell_type": "markdown",
   "metadata": {},
   "source": [
    "## Data Preprocessing\n",
    "\n",
    "src: https://www.kaggle.com/datasets/mitramir5/the-big-bang-theory-series-transcript"
   ]
  },
  {
   "cell_type": "code",
   "execution_count": 37,
   "metadata": {},
   "outputs": [
    {
     "data": {
      "text/html": [
       "<div>\n",
       "<style scoped>\n",
       "    .dataframe tbody tr th:only-of-type {\n",
       "        vertical-align: middle;\n",
       "    }\n",
       "\n",
       "    .dataframe tbody tr th {\n",
       "        vertical-align: top;\n",
       "    }\n",
       "\n",
       "    .dataframe thead th {\n",
       "        text-align: right;\n",
       "    }\n",
       "</style>\n",
       "<table border=\"1\" class=\"dataframe\">\n",
       "  <thead>\n",
       "    <tr style=\"text-align: right;\">\n",
       "      <th></th>\n",
       "      <th>episode_name</th>\n",
       "      <th>dialogue</th>\n",
       "      <th>person_scene</th>\n",
       "    </tr>\n",
       "  </thead>\n",
       "  <tbody>\n",
       "    <tr>\n",
       "      <th>0</th>\n",
       "      <td>Series 01 Episode 01 – Pilot Episode</td>\n",
       "      <td>A corridor at a sperm bank.</td>\n",
       "      <td>Scene</td>\n",
       "    </tr>\n",
       "    <tr>\n",
       "      <th>1</th>\n",
       "      <td>Series 01 Episode 01 – Pilot Episode</td>\n",
       "      <td>So if a photon is directed through a plane wi...</td>\n",
       "      <td>Sheldon</td>\n",
       "    </tr>\n",
       "    <tr>\n",
       "      <th>2</th>\n",
       "      <td>Series 01 Episode 01 – Pilot Episode</td>\n",
       "      <td>Agreed, what’s your point?</td>\n",
       "      <td>Leonard</td>\n",
       "    </tr>\n",
       "    <tr>\n",
       "      <th>3</th>\n",
       "      <td>Series 01 Episode 01 – Pilot Episode</td>\n",
       "      <td>There’s no point, I just think it’s a good id...</td>\n",
       "      <td>Sheldon</td>\n",
       "    </tr>\n",
       "    <tr>\n",
       "      <th>4</th>\n",
       "      <td>Series 01 Episode 01 – Pilot Episode</td>\n",
       "      <td>Excuse me?</td>\n",
       "      <td>Leonard</td>\n",
       "    </tr>\n",
       "    <tr>\n",
       "      <th>5</th>\n",
       "      <td>Series 01 Episode 01 – Pilot Episode</td>\n",
       "      <td>Hang on.</td>\n",
       "      <td>Receptionist</td>\n",
       "    </tr>\n",
       "    <tr>\n",
       "      <th>6</th>\n",
       "      <td>Series 01 Episode 01 – Pilot Episode</td>\n",
       "      <td>One across is Aegean, eight down is Nabakov, ...</td>\n",
       "      <td>Leonard</td>\n",
       "    </tr>\n",
       "    <tr>\n",
       "      <th>7</th>\n",
       "      <td>Series 01 Episode 01 – Pilot Episode</td>\n",
       "      <td>Can I help you?</td>\n",
       "      <td>Receptionist</td>\n",
       "    </tr>\n",
       "    <tr>\n",
       "      <th>8</th>\n",
       "      <td>Series 01 Episode 01 – Pilot Episode</td>\n",
       "      <td>Yes. Um, is this the High IQ sperm bank?</td>\n",
       "      <td>Leonard</td>\n",
       "    </tr>\n",
       "    <tr>\n",
       "      <th>9</th>\n",
       "      <td>Series 01 Episode 01 – Pilot Episode</td>\n",
       "      <td>If you have to ask, maybe you shouldn’t be here.</td>\n",
       "      <td>Receptionist</td>\n",
       "    </tr>\n",
       "  </tbody>\n",
       "</table>\n",
       "</div>"
      ],
      "text/plain": [
       "                           episode_name  \\\n",
       "0  Series 01 Episode 01 – Pilot Episode   \n",
       "1  Series 01 Episode 01 – Pilot Episode   \n",
       "2  Series 01 Episode 01 – Pilot Episode   \n",
       "3  Series 01 Episode 01 – Pilot Episode   \n",
       "4  Series 01 Episode 01 – Pilot Episode   \n",
       "5  Series 01 Episode 01 – Pilot Episode   \n",
       "6  Series 01 Episode 01 – Pilot Episode   \n",
       "7  Series 01 Episode 01 – Pilot Episode   \n",
       "8  Series 01 Episode 01 – Pilot Episode   \n",
       "9  Series 01 Episode 01 – Pilot Episode   \n",
       "\n",
       "                                            dialogue  person_scene  \n",
       "0                        A corridor at a sperm bank.         Scene  \n",
       "1   So if a photon is directed through a plane wi...       Sheldon  \n",
       "2                         Agreed, what’s your point?       Leonard  \n",
       "3   There’s no point, I just think it’s a good id...       Sheldon  \n",
       "4                                         Excuse me?       Leonard  \n",
       "5                                          Hang on.   Receptionist  \n",
       "6   One across is Aegean, eight down is Nabakov, ...       Leonard  \n",
       "7                                    Can I help you?  Receptionist  \n",
       "8           Yes. Um, is this the High IQ sperm bank?       Leonard  \n",
       "9   If you have to ask, maybe you shouldn’t be here.  Receptionist  "
      ]
     },
     "execution_count": 37,
     "metadata": {},
     "output_type": "execute_result"
    }
   ],
   "source": [
    "bbt = pd.read_csv('data/1_10_seasons_tbbt.csv')\n",
    "bbt.head(10)"
   ]
  },
  {
   "cell_type": "code",
   "execution_count": 38,
   "metadata": {},
   "outputs": [
    {
     "data": {
      "text/html": [
       "<div>\n",
       "<style scoped>\n",
       "    .dataframe tbody tr th:only-of-type {\n",
       "        vertical-align: middle;\n",
       "    }\n",
       "\n",
       "    .dataframe tbody tr th {\n",
       "        vertical-align: top;\n",
       "    }\n",
       "\n",
       "    .dataframe thead th {\n",
       "        text-align: right;\n",
       "    }\n",
       "</style>\n",
       "<table border=\"1\" class=\"dataframe\">\n",
       "  <thead>\n",
       "    <tr style=\"text-align: right;\">\n",
       "      <th></th>\n",
       "      <th>reponse</th>\n",
       "      <th>context</th>\n",
       "      <th>context/0</th>\n",
       "      <th>context/1</th>\n",
       "      <th>context/2</th>\n",
       "      <th>context/3</th>\n",
       "      <th>context/4</th>\n",
       "      <th>context/5</th>\n",
       "    </tr>\n",
       "  </thead>\n",
       "  <tbody>\n",
       "    <tr>\n",
       "      <th>0</th>\n",
       "      <td>I think this is the place.</td>\n",
       "      <td>If you have to ask, maybe you shouldn’t be here.</td>\n",
       "      <td>Yes. Um, is this the High IQ sperm bank?</td>\n",
       "      <td>Can I help you?</td>\n",
       "      <td>One across is Aegean, eight down is Nabakov, ...</td>\n",
       "      <td>Hang on.</td>\n",
       "      <td>Excuse me?</td>\n",
       "      <td>There’s no point, I just think it’s a good id...</td>\n",
       "    </tr>\n",
       "    <tr>\n",
       "      <th>1</th>\n",
       "      <td>Leonard, I don’t think I can do this.</td>\n",
       "      <td>Oh, take your time. I’ll just finish my cross...</td>\n",
       "      <td>Thank-you. We’ll be right back.</td>\n",
       "      <td>Fill these out.</td>\n",
       "      <td>I think this is the place.</td>\n",
       "      <td>If you have to ask, maybe you shouldn’t be here.</td>\n",
       "      <td>Yes. Um, is this the High IQ sperm bank?</td>\n",
       "      <td>Can I help you?</td>\n",
       "    </tr>\n",
       "    <tr>\n",
       "      <th>2</th>\n",
       "      <td>No. We are committing genetic fraud. There’s ...</td>\n",
       "      <td>What, are you kidding? You’re a semi-pro.</td>\n",
       "      <td>Leonard, I don’t think I can do this.</td>\n",
       "      <td>Oh, take your time. I’ll just finish my cross...</td>\n",
       "      <td>Thank-you. We’ll be right back.</td>\n",
       "      <td>Fill these out.</td>\n",
       "      <td>I think this is the place.</td>\n",
       "      <td>If you have to ask, maybe you shouldn’t be here.</td>\n",
       "    </tr>\n",
       "  </tbody>\n",
       "</table>\n",
       "</div>"
      ],
      "text/plain": [
       "                                             reponse  \\\n",
       "0                         I think this is the place.   \n",
       "1              Leonard, I don’t think I can do this.   \n",
       "2   No. We are committing genetic fraud. There’s ...   \n",
       "\n",
       "                                             context  \\\n",
       "0   If you have to ask, maybe you shouldn’t be here.   \n",
       "1   Oh, take your time. I’ll just finish my cross...   \n",
       "2         What, are you kidding? You’re a semi-pro.    \n",
       "\n",
       "                                   context/0  \\\n",
       "0   Yes. Um, is this the High IQ sperm bank?   \n",
       "1            Thank-you. We’ll be right back.   \n",
       "2      Leonard, I don’t think I can do this.   \n",
       "\n",
       "                                           context/1  \\\n",
       "0                                    Can I help you?   \n",
       "1                                    Fill these out.   \n",
       "2   Oh, take your time. I’ll just finish my cross...   \n",
       "\n",
       "                                           context/2  \\\n",
       "0   One across is Aegean, eight down is Nabakov, ...   \n",
       "1                         I think this is the place.   \n",
       "2                    Thank-you. We’ll be right back.   \n",
       "\n",
       "                                           context/3  \\\n",
       "0                                          Hang on.    \n",
       "1   If you have to ask, maybe you shouldn’t be here.   \n",
       "2                                    Fill these out.   \n",
       "\n",
       "                                   context/4  \\\n",
       "0                                 Excuse me?   \n",
       "1   Yes. Um, is this the High IQ sperm bank?   \n",
       "2                 I think this is the place.   \n",
       "\n",
       "                                           context/5  \n",
       "0   There’s no point, I just think it’s a good id...  \n",
       "1                                    Can I help you?  \n",
       "2   If you have to ask, maybe you shouldn’t be here.  "
      ]
     },
     "execution_count": 38,
     "metadata": {},
     "output_type": "execute_result"
    }
   ],
   "source": [
    "contexted = []\n",
    "\n",
    "n = 7\n",
    "\n",
    "for i in range(n, len(bbt['dialogue'])):\n",
    "    row = []\n",
    "    prev = i - 1 - n # subtract 1 to include cur response and 7 prev response\n",
    "    if bbt['person_scene'][i] == 'Sheldon':\n",
    "        for j in range(i, prev, -1):\n",
    "            row.append(bbt['dialogue'][j])\n",
    "        contexted.append(row)\n",
    "columns = ['reponse', 'context']\n",
    "columns = columns + ['context/'+str(i) for i in range(n-1)]\n",
    "\n",
    "df = pd.DataFrame.from_records(contexted, columns=columns)\n",
    "df.head(3)"
   ]
  },
  {
   "cell_type": "code",
   "execution_count": 34,
   "metadata": {},
   "outputs": [
    {
     "data": {
      "text/plain": [
       "11482"
      ]
     },
     "execution_count": 34,
     "metadata": {},
     "output_type": "execute_result"
    }
   ],
   "source": [
    "len(df)"
   ]
  },
  {
   "cell_type": "code",
   "execution_count": 41,
   "metadata": {},
   "outputs": [],
   "source": [
    "train_df, val_df = train_test_split(df, test_size=0.1)"
   ]
  },
  {
   "cell_type": "code",
   "execution_count": 43,
   "metadata": {},
   "outputs": [],
   "source": [
    "train_df.to_csv(\"data/sheldon_train.csv\", index=False)\n",
    "val_df.to_csv(\"data/sheldon_val.csv\", index=False)"
   ]
  }
 ],
 "metadata": {
  "kernelspec": {
   "display_name": ".venv",
   "language": "python",
   "name": "python3"
  },
  "language_info": {
   "codemirror_mode": {
    "name": "ipython",
    "version": 3
   },
   "file_extension": ".py",
   "mimetype": "text/x-python",
   "name": "python",
   "nbconvert_exporter": "python",
   "pygments_lexer": "ipython3",
   "version": "3.9.18"
  }
 },
 "nbformat": 4,
 "nbformat_minor": 2
}
